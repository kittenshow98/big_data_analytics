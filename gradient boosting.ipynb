{
 "cells": [
  {
   "cell_type": "code",
   "execution_count": 1,
   "metadata": {},
   "outputs": [],
   "source": [
    "import pandas as pd\n",
    "import numpy as np\n",
    "import matplotlib\n",
    "import matplotlib.pyplot as plt\n",
    "import seaborn as sns\n",
    "from sklearn.model_selection import train_test_split, cross_val_score\n",
    "from sklearn.pipeline import Pipeline\n",
    "from sklearn.preprocessing import StandardScaler, PolynomialFeatures\n",
    "from sklearn.ensemble import GradientBoostingRegressor"
   ]
  },
  {
   "cell_type": "code",
   "execution_count": 2,
   "metadata": {},
   "outputs": [],
   "source": [
    "train = pd.read_csv(\"/Users/a1/Desktop/big data final/new/train_preprocessed_new.csv\")\n",
    "test = pd.read_csv(\"/Users/a1/Desktop/big data final/new/test_preprocessed_new.csv\")\n",
    "all_data = pd.read_csv(\"/Users/a1/Desktop/big data final/new/all_data_preprocessed_new.csv\")"
   ]
  },
  {
   "cell_type": "code",
   "execution_count": 3,
   "metadata": {},
   "outputs": [
    {
     "data": {
      "text/plain": [
       "array([[-0.26450737,  0.21012897,  0.30008304, ...,  0.30100905,\n",
       "        -0.14490267,  0.30100899],\n",
       "       [ 0.91057406,  0.82198387,  0.30008304, ...,  0.29984279,\n",
       "         0.3799683 ,  0.29984273],\n",
       "       [-1.43958881,  0.82198387,  0.30008304, ...,  0.30117564,\n",
       "        -0.14490267,  0.30117558],\n",
       "       ...,\n",
       "       [-0.26450737, -1.01358083,  1.52420277, ...,  1.52271839,\n",
       "        -0.14490267,  1.52271834],\n",
       "       [-0.26450737, -1.01358083,  1.52420277, ...,  1.52224542,\n",
       "        -0.14490267,  1.52224537],\n",
       "       [-0.26450737,  0.82198387,  1.52420277, ...,  1.52416512,\n",
       "        -0.14490267,  1.52416506]])"
      ]
     },
     "execution_count": 3,
     "metadata": {},
     "output_type": "execute_result"
    }
   ],
   "source": [
    "ss = StandardScaler()\n",
    "ss.fit(all_data)\n",
    "X_s = ss.transform(all_data)\n",
    "X_s"
   ]
  },
  {
   "cell_type": "code",
   "execution_count": 4,
   "metadata": {},
   "outputs": [],
   "source": [
    "train_X = train.loc[:, train.columns != 'totals.totalTransactionRevenue']\n",
    "train_y = np.log1p(train['totals.totalTransactionRevenue'])\n",
    "test_X = test.loc[:, test.columns != 'totals.totalTransactionRevenue']\n",
    "test_y = np.log1p(test['totals.totalTransactionRevenue'])"
   ]
  },
  {
   "cell_type": "code",
   "execution_count": 5,
   "metadata": {},
   "outputs": [],
   "source": [
    "all_data_X = all_data.loc[:, all_data.columns != 'totals.totalTransactionRevenue']\n",
    "all_data_y = np.log1p(all_data['totals.totalTransactionRevenue'])"
   ]
  },
  {
   "cell_type": "code",
   "execution_count": 6,
   "metadata": {},
   "outputs": [],
   "source": [
    "gbr = GradientBoostingRegressor()"
   ]
  },
  {
   "cell_type": "code",
   "execution_count": 7,
   "metadata": {},
   "outputs": [
    {
     "name": "stdout",
     "output_type": "stream",
     "text": [
      "GradientBoostingRegressor\n",
      "Training score:\n",
      "0.9999084926484927\n",
      "Testing score:\n",
      "0.9999399921356977\n",
      "\n"
     ]
    }
   ],
   "source": [
    "print(str(gbr).split('(')[0])\n",
    "gbr.fit(train_X, train_y)\n",
    "print('Training score:')\n",
    "print(gbr.score(train_X, train_y))\n",
    "print('Testing score:')\n",
    "print(gbr.score(test_X, test_y))\n",
    "print()"
   ]
  },
  {
   "cell_type": "code",
   "execution_count": 8,
   "metadata": {},
   "outputs": [
    {
     "name": "stdout",
     "output_type": "stream",
     "text": [
      "GradientBoostingRegressor\n",
      "Training RMSE:\n",
      "0.017894598002539064\n",
      "0.01308535955984204\n"
     ]
    }
   ],
   "source": [
    "from sklearn.metrics import mean_squared_error\n",
    "\n",
    "print(str(gbr).split('(')[0])\n",
    "print('Training RMSE:')\n",
    "print(mean_squared_error(train_y, gbr.predict(train_X)) ** 0.5)\n",
    "print (mean_squared_error(test_y, gbr.predict(test_X)) ** 0.5)"
   ]
  },
  {
   "cell_type": "code",
   "execution_count": 13,
   "metadata": {},
   "outputs": [
    {
     "data": {
      "image/png": "[encoded data removed]",
      "text/plain": [
       "<Figure size 2160x360 with 1 Axes>"
      ]
     },
     "metadata": {
      "needs_background": "light"
     },
     "output_type": "display_data"
    }
   ],
   "source": [
    "fig = plt.figure(figsize=(30,5))\n",
    "ax = plt.axes()\n",
    "predictions = pd.Series(gbr.predict(test_X))\n",
    "ax.plot(predictions.index, predictions, color = 'blue', label='Prediction')\n",
    "ax.scatter(test_y.index, test_y, color = 'red', label='Real Value')\n",
    "\n",
    "ax.legend(loc='best')\n",
    "plt.show()"
   ]
  },
  {
   "cell_type": "code",
   "execution_count": null,
   "metadata": {},
   "outputs": [],
   "source": []
  }
 ],
 "metadata": {
  "kernelspec": {
   "display_name": "Python 3",
   "language": "python",
   "name": "python3"
  },
  "language_info": {
   "codemirror_mode": {
    "name": "ipython",
    "version": 3
   },
   "file_extension": ".py",
   "mimetype": "text/x-python",
   "name": "python",
   "nbconvert_exporter": "python",
   "pygments_lexer": "ipython3",
   "version": "3.7.3"
  }
 },
 "nbformat": 4,
 "nbformat_minor": 2
}
