{
 "cells": [
  {
   "cell_type": "code",
   "execution_count": 33,
   "metadata": {},
   "outputs": [],
   "source": [
    "import datetime, time\n",
    "\n",
    "import numpy as np\n",
    "import pandas as pd\n",
    "import matplotlib as mpl\n",
    "import matplotlib.pyplot as plt\n",
    "\n",
    "from sklearn.linear_model import LinearRegression\n",
    "from sklearn.metrics import mean_squared_error\n",
    "from sklearn.preprocessing import LabelEncoder\n",
    "from sklearn.model_selection import GridSearchCV\n",
    "\n",
    "from IPython.display import clear_output, display, HTML"
   ]
  },
  {
   "cell_type": "code",
   "execution_count": 34,
   "metadata": {},
   "outputs": [
    {
     "name": "stderr",
     "output_type": "stream",
     "text": [
      "D:\\anaconda\\lib\\site-packages\\IPython\\core\\interactiveshell.py:3057: DtypeWarning: Columns (2) have mixed types. Specify dtype option on import or set low_memory=False.\n",
      "  interactivity=interactivity, compiler=compiler, result=result)\n"
     ]
    }
   ],
   "source": [
    "train = pd.read_csv(r\"D:\\GoogleChromeDownload\\train_deleted.csv\")\n",
    "test = pd.read_csv(r\"D:\\GoogleChromeDownload\\test_deleted.csv\")\n",
    "all_data = pd.concat([train, test], ignore_index=True, sort=False)"
   ]
  },
  {
   "cell_type": "code",
   "execution_count": 35,
   "metadata": {},
   "outputs": [
    {
     "name": "stdout",
     "output_type": "stream",
     "text": [
      "(1708337, 29)\n",
      "(401589, 29)\n"
     ]
    }
   ],
   "source": [
    "print(train.shape)\n",
    "print(test.shape)"
   ]
  },
  {
   "cell_type": "code",
   "execution_count": 36,
   "metadata": {},
   "outputs": [
    {
     "data": {
      "text/plain": [
       "['channelGrouping',\n",
       " 'date',\n",
       " 'fullVisitorId',\n",
       " 'visitId',\n",
       " 'visitNumber',\n",
       " 'visitStartTime',\n",
       " 'device.browser',\n",
       " 'device.deviceCategory',\n",
       " 'device.operatingSystem',\n",
       " 'geoNetwork.city',\n",
       " 'geoNetwork.continent',\n",
       " 'geoNetwork.country',\n",
       " 'geoNetwork.metro',\n",
       " 'geoNetwork.networkDomain',\n",
       " 'geoNetwork.region',\n",
       " 'geoNetwork.subContinent',\n",
       " 'totals.bounces',\n",
       " 'totals.hits',\n",
       " 'totals.newVisits',\n",
       " 'totals.pageviews',\n",
       " 'totals.sessionQualityDim',\n",
       " 'totals.timeOnSite',\n",
       " 'totals.transactionRevenue',\n",
       " 'trafficSource.campaign',\n",
       " 'trafficSource.isTrueDirect',\n",
       " 'trafficSource.medium',\n",
       " 'trafficSource.referralPath',\n",
       " 'trafficSource.source',\n",
       " 'customDimensions.value']"
      ]
     },
     "execution_count": 36,
     "metadata": {},
     "output_type": "execute_result"
    }
   ],
   "source": [
    "test.columns.tolist()"
   ]
  },
  {
   "cell_type": "code",
   "execution_count": 38,
   "metadata": {},
   "outputs": [],
   "source": [
    "all_data['fullVisitorId'] = all_data['fullVisitorId'].astype(str)\n",
    "# all_data['device_isMobile'] = all_data['device_isMobile'].astype(str)\n",
    "\n",
    "all_data['totals.hits'] = all_data['totals.hits'].astype('float64')\n",
    "all_data['totals.pageviews'] = all_data['totals.pageviews'].astype('float64')\n",
    "all_data['totals.sessionQualityDim'] = all_data['totals.sessionQualityDim'].astype('float64')\n",
    "\n",
    "all_data['totals.transactionRevenue'] = all_data['totals.transactionRevenue'].astype('float64')\n",
    "# all_data['totals_totalTransactionRevenue'] = all_data['totals_totalTransactionRevenue'].astype('float64')\n",
    "\n",
    "train['fullVisitorId'] = train['fullVisitorId'].astype(str)\n",
    "# train['device_isMobile'] = train['device_isMobile'].astype(str)\n",
    "\n",
    "train['totals.hits'] = train['totals.hits'].astype('float64')\n",
    "train['totals.pageviews'] = train['totals.pageviews'].astype('float64')\n",
    "train['totals.sessionQualityDim'] = train['totals.sessionQualityDim'].astype('float64')\n",
    "\n",
    "all_data['totals.transactionRevenue'] = all_data['totals.transactionRevenue'].astype('float64')\n",
    "# all_data['totals_totalTransactionRevenue'] = all_data['totals_totalTransactionRevenue'].astype('float64')\n",
    "\n",
    "\n",
    "test['fullVisitorId'] = test['fullVisitorId'].astype(str)\n",
    "# test['device_isMobile'] = test['device_isMobile'].astype(str)\n",
    "\n",
    "test['totals.hits'] = test['totals.hits'].astype('float64')\n",
    "test['totals.pageviews'] = test['totals.pageviews'].astype('float64')\n",
    "test['totals.sessionQualityDim'] = test['totals.sessionQualityDim'].astype('float64')\n",
    "\n",
    "test['totals.transactionRevenue'] = test['totals.transactionRevenue'].astype('float64')\n",
    "# test['totals_totalTransactionRevenue'] = test['totals_totalTransactionRevenue'].astype('float64')\n",
    "\n",
    "# Date to day conversion\n",
    "all_data['date'] =  pd.to_datetime(all_data['date'], format = '%Y%m%d').astype(np.int64)/10**9/86400\n",
    "train['date'] =  pd.to_datetime(train['date'], format = '%Y%m%d').astype(np.int64)/10**9/86400\n",
    "test['date'] =  pd.to_datetime(test['date'], format = '%Y%m%d').astype(np.int64)/10**9/86400"
   ]
  },
  {
   "cell_type": "code",
   "execution_count": 39,
   "metadata": {},
   "outputs": [],
   "source": [
    "# Replace different NaN Values\n",
    "nan_values = [\"not available in demo dataset\", \"unknown.unknown\", \"nan\", \"(none)\", \"(not set)\", \"/\", \"\", \"None\", None]\n",
    "all_data = all_data.replace(nan_values, np.nan)\n",
    "train = train.replace(nan_values, np.nan)\n",
    "test = test.replace(nan_values, np.nan)"
   ]
  },
  {
   "cell_type": "code",
   "execution_count": 40,
   "metadata": {},
   "outputs": [
    {
     "name": "stdout",
     "output_type": "stream",
     "text": [
      "Empty values in 'totals_transactionRevenue' and 'totals_totalTransactionRevenue' columns filled with 0.\n",
      "Dropped all columns with more than 50% missing data and 1 unique value.\n"
     ]
    }
   ],
   "source": [
    "columns_to_drop = [] # List of columns to drop during the preprocessing.\n",
    "\n",
    "all_data['totals.transactionRevenue'] = all_data['totals.transactionRevenue'].fillna(0)\n",
    "# all_data['totals_totalTransactionRevenue'] = all_data['totals_totalTransactionRevenue'].fillna(0)\n",
    "\n",
    "train['totals.transactionRevenue'] = train['totals.transactionRevenue'].fillna(0)\n",
    "# train['totals_totalTransactionRevenue'] = train['totals_totalTransactionRevenue'].fillna(0)\n",
    "\n",
    "test['totals.transactionRevenue'] = test['totals.transactionRevenue'].fillna(0)\n",
    "# test['totals_totalTransactionRevenue'] = test['totals_totalTransactionRevenue'].fillna(0)\n",
    "\n",
    "print(\"Empty values in 'totals_transactionRevenue' and 'totals_totalTransactionRevenue' columns filled with 0.\")\n",
    "\n",
    "columns_to_drop.extend(list(all_data.columns[all_data.isnull().mean() > 0.5]))\n",
    "columns_to_drop.extend(list(all_data.columns[all_data.nunique() == 1]))\n",
    "\n",
    "all_data.drop(columns = columns_to_drop, inplace=True)\n",
    "train.drop(columns = columns_to_drop, inplace=True)\n",
    "test.drop(columns = columns_to_drop, inplace=True)\n",
    "print('Dropped all columns with more than 50% missing data and 1 unique value.')"
   ]
  },
  {
   "cell_type": "code",
   "execution_count": 41,
   "metadata": {},
   "outputs": [],
   "source": [
    "# if the column is numeric replace empty values with the median\n",
    "numeric_cols = all_data.select_dtypes(include=['int64','float64']).columns\n",
    "for col in all_data.loc[:, numeric_cols]:\n",
    "    all_data[col] = all_data[col].fillna(all_data[col].median())\n",
    "\n",
    "# if the column is categorical replace empty values with the mode\n",
    "categorical_cols = all_data.select_dtypes(include=['object']).columns\n",
    "for col in all_data.loc[:, categorical_cols]:\n",
    "    all_data[col] = all_data[col].fillna(all_data[col].mode()[0])"
   ]
  },
  {
   "cell_type": "code",
   "execution_count": 42,
   "metadata": {},
   "outputs": [],
   "source": [
    "# if the column is numeric replace empty values with the median\n",
    "numeric_cols = train.select_dtypes(include=['int64','float64']).columns\n",
    "for col in train.loc[:, numeric_cols]:\n",
    "    train[col] = train[col].fillna(train[col].median())\n",
    "\n",
    "# if the column is categorical replace empty values with the mode\n",
    "categorical_cols = train.select_dtypes(include=['object']).columns\n",
    "for col in train.loc[:, categorical_cols]:\n",
    "    train[col] = train[col].fillna(train[col].mode()[0])"
   ]
  },
  {
   "cell_type": "code",
   "execution_count": 43,
   "metadata": {},
   "outputs": [],
   "source": [
    "# if the column is numeric replace empty values with the median\n",
    "numeric_cols = test.select_dtypes(include=['int64','float64']).columns\n",
    "for col in test.loc[:, numeric_cols]:\n",
    "    test[col] = test[col].fillna(test[col].median())\n",
    "\n",
    "# if the column is categorical replace empty values with the mode\n",
    "categorical_cols = test.select_dtypes(include=['object']).columns\n",
    "for col in test.loc[:, categorical_cols]:\n",
    "    test[col] = test[col].fillna(test[col].mode()[0])"
   ]
  },
  {
   "cell_type": "code",
   "execution_count": 44,
   "metadata": {},
   "outputs": [],
   "source": [
    "# Encode Categorical Columns\n",
    "le = LabelEncoder()\n",
    "\n",
    "for col in categorical_cols:\n",
    "    le.fit(all_data[col])\n",
    "    \n",
    "    all_data[col] = le.transform(all_data[col])\n",
    "    train[col] = le.transform(train[col])\n",
    "    test[col] = le.transform(test[col])"
   ]
  },
  {
   "cell_type": "code",
   "execution_count": 45,
   "metadata": {},
   "outputs": [
    {
     "name": "stdout",
     "output_type": "stream",
     "text": [
      "<class 'pandas.core.frame.DataFrame'>\n",
      "RangeIndex: 2109926 entries, 0 to 2109925\n",
      "Data columns (total 25 columns):\n",
      "channelGrouping               int32\n",
      "date                          float64\n",
      "fullVisitorId                 int32\n",
      "visitId                       int64\n",
      "visitNumber                   int64\n",
      "visitStartTime                int64\n",
      "device.browser                int32\n",
      "device.deviceCategory         int32\n",
      "device.operatingSystem        int32\n",
      "geoNetwork.continent          int32\n",
      "geoNetwork.country            int32\n",
      "geoNetwork.networkDomain      int32\n",
      "geoNetwork.subContinent       int32\n",
      "totals.bounces                float64\n",
      "totals.hits                   float64\n",
      "totals.newVisits              float64\n",
      "totals.pageviews              float64\n",
      "totals.sessionQualityDim      float64\n",
      "totals.timeOnSite             float64\n",
      "totals.transactionRevenue     float64\n",
      "trafficSource.isTrueDirect    bool\n",
      "trafficSource.medium          int32\n",
      "trafficSource.referralPath    int32\n",
      "trafficSource.source          int32\n",
      "customDimensions.value        int32\n",
      "dtypes: bool(1), float64(8), int32(13), int64(3)\n",
      "memory usage: 283.7 MB\n"
     ]
    }
   ],
   "source": [
    "all_data.info()"
   ]
  },
  {
   "cell_type": "code",
   "execution_count": 46,
   "metadata": {},
   "outputs": [],
   "source": [
    "train.to_csv(r\"D:\\Kaggle\\train.csv\", index=False)\n",
    "test.to_csv(r\"D:\\Kaggle\\test.csv\", index=False)\n",
    "all_data.to_csv(r\"D:\\Kaggle\\all_data.csv\", index=False)"
   ]
  },
  {
   "cell_type": "code",
   "execution_count": 47,
   "metadata": {},
   "outputs": [],
   "source": [
    "test_X = test.loc[:, test.columns != 'totals.transactionRevenue']\n",
    "test_y = test['totals.transactionRevenue']\n",
    "train_X = train.loc[:, train.columns != 'totals.transactionRevenue']\n",
    "train_y = train['totals.transactionRevenue']\n",
    "all_data_X = all_data.loc[:, all_data.columns != 'totals.transactionRevenue']\n",
    "all_data_y = all_data['totals.transactionRevenue']"
   ]
  },
  {
   "cell_type": "code",
   "execution_count": 48,
   "metadata": {},
   "outputs": [
    {
     "name": "stdout",
     "output_type": "stream",
     "text": [
      "fit_intercept \t-  [True, False]\n",
      "normalize \t-  [True, False]\n"
     ]
    }
   ],
   "source": [
    "parameters = {\n",
    "    'fit_intercept': [True, False],\n",
    "    'normalize': [True, False]\n",
    "}\n",
    "\n",
    "for key, values in parameters.items():\n",
    "    print(key,\"\\t- \", values)"
   ]
  },
  {
   "cell_type": "code",
   "execution_count": 49,
   "metadata": {},
   "outputs": [
    {
     "name": "stdout",
     "output_type": "stream",
     "text": [
      "Time Taken: 00:01:43.011\n"
     ]
    }
   ],
   "source": [
    "start = time.time()\n",
    "\n",
    "gridSearchResult = GridSearchCV(LinearRegression(),\n",
    "                                parameters, \n",
    "                                cv = 5, \n",
    "                                scoring='neg_mean_squared_error', \n",
    "                                verbose=5\n",
    "                               ).fit(all_data_X, all_data_y)\n",
    "\n",
    "clear_output()\n",
    "\n",
    "end = time.time()\n",
    "hours, rem = divmod(end-start, 3600)\n",
    "minutes, seconds = divmod(rem, 60)\n",
    "print(\"Time Taken: {:0>2}:{:0>2}:{:05.3f}\".format(int(hours),int(minutes),seconds))"
   ]
  },
  {
   "cell_type": "code",
   "execution_count": 50,
   "metadata": {},
   "outputs": [
    {
     "data": {
      "text/html": [
       "<div>\n",
       "<style scoped>\n",
       "    .dataframe tbody tr th:only-of-type {\n",
       "        vertical-align: middle;\n",
       "    }\n",
       "\n",
       "    .dataframe tbody tr th {\n",
       "        vertical-align: top;\n",
       "    }\n",
       "\n",
       "    .dataframe thead th {\n",
       "        text-align: right;\n",
       "    }\n",
       "</style>\n",
       "<table border=\"1\" class=\"dataframe\">\n",
       "  <thead>\n",
       "    <tr style=\"text-align: right;\">\n",
       "      <th></th>\n",
       "      <th>0</th>\n",
       "      <th>1</th>\n",
       "      <th>2</th>\n",
       "      <th>3</th>\n",
       "    </tr>\n",
       "  </thead>\n",
       "  <tbody>\n",
       "    <tr>\n",
       "      <th>mean_fit_time</th>\n",
       "      <td>4.66712</td>\n",
       "      <td>4.2975</td>\n",
       "      <td>4.03865</td>\n",
       "      <td>4.06025</td>\n",
       "    </tr>\n",
       "    <tr>\n",
       "      <th>std_fit_time</th>\n",
       "      <td>0.399676</td>\n",
       "      <td>0.184825</td>\n",
       "      <td>0.12994</td>\n",
       "      <td>0.258932</td>\n",
       "    </tr>\n",
       "    <tr>\n",
       "      <th>mean_score_time</th>\n",
       "      <td>0.606741</td>\n",
       "      <td>0.603386</td>\n",
       "      <td>0.630314</td>\n",
       "      <td>0.616986</td>\n",
       "    </tr>\n",
       "    <tr>\n",
       "      <th>std_score_time</th>\n",
       "      <td>0.0485246</td>\n",
       "      <td>0.0439009</td>\n",
       "      <td>0.0563436</td>\n",
       "      <td>0.046061</td>\n",
       "    </tr>\n",
       "    <tr>\n",
       "      <th>param_fit_intercept</th>\n",
       "      <td>True</td>\n",
       "      <td>True</td>\n",
       "      <td>False</td>\n",
       "      <td>False</td>\n",
       "    </tr>\n",
       "    <tr>\n",
       "      <th>param_normalize</th>\n",
       "      <td>True</td>\n",
       "      <td>False</td>\n",
       "      <td>True</td>\n",
       "      <td>False</td>\n",
       "    </tr>\n",
       "    <tr>\n",
       "      <th>params</th>\n",
       "      <td>{'fit_intercept': True, 'normalize': True}</td>\n",
       "      <td>{'fit_intercept': True, 'normalize': False}</td>\n",
       "      <td>{'fit_intercept': False, 'normalize': True}</td>\n",
       "      <td>{'fit_intercept': False, 'normalize': False}</td>\n",
       "    </tr>\n",
       "    <tr>\n",
       "      <th>split0_test_score</th>\n",
       "      <td>-9.07769e+14</td>\n",
       "      <td>-9.07769e+14</td>\n",
       "      <td>-9.07824e+14</td>\n",
       "      <td>-9.07824e+14</td>\n",
       "    </tr>\n",
       "    <tr>\n",
       "      <th>split1_test_score</th>\n",
       "      <td>-3.63772e+15</td>\n",
       "      <td>-3.63772e+15</td>\n",
       "      <td>-3.63784e+15</td>\n",
       "      <td>-3.63784e+15</td>\n",
       "    </tr>\n",
       "    <tr>\n",
       "      <th>split2_test_score</th>\n",
       "      <td>-1.6512e+15</td>\n",
       "      <td>-1.6512e+15</td>\n",
       "      <td>-1.65132e+15</td>\n",
       "      <td>-1.65132e+15</td>\n",
       "    </tr>\n",
       "    <tr>\n",
       "      <th>split3_test_score</th>\n",
       "      <td>-1.61156e+15</td>\n",
       "      <td>-1.61156e+15</td>\n",
       "      <td>-1.61166e+15</td>\n",
       "      <td>-1.61166e+15</td>\n",
       "    </tr>\n",
       "    <tr>\n",
       "      <th>split4_test_score</th>\n",
       "      <td>-3.54248e+15</td>\n",
       "      <td>-3.54248e+15</td>\n",
       "      <td>-3.54295e+15</td>\n",
       "      <td>-3.54295e+15</td>\n",
       "    </tr>\n",
       "    <tr>\n",
       "      <th>mean_test_score</th>\n",
       "      <td>-2.27015e+15</td>\n",
       "      <td>-2.27015e+15</td>\n",
       "      <td>-2.27032e+15</td>\n",
       "      <td>-2.27032e+15</td>\n",
       "    </tr>\n",
       "    <tr>\n",
       "      <th>std_test_score</th>\n",
       "      <td>1.11013e+15</td>\n",
       "      <td>1.11013e+15</td>\n",
       "      <td>1.11023e+15</td>\n",
       "      <td>1.11023e+15</td>\n",
       "    </tr>\n",
       "    <tr>\n",
       "      <th>rank_test_score</th>\n",
       "      <td>2</td>\n",
       "      <td>1</td>\n",
       "      <td>3</td>\n",
       "      <td>3</td>\n",
       "    </tr>\n",
       "  </tbody>\n",
       "</table>\n",
       "</div>"
      ],
      "text/plain": [
       "                                                              0  \\\n",
       "mean_fit_time                                           4.66712   \n",
       "std_fit_time                                           0.399676   \n",
       "mean_score_time                                        0.606741   \n",
       "std_score_time                                        0.0485246   \n",
       "param_fit_intercept                                        True   \n",
       "param_normalize                                            True   \n",
       "params               {'fit_intercept': True, 'normalize': True}   \n",
       "split0_test_score                                  -9.07769e+14   \n",
       "split1_test_score                                  -3.63772e+15   \n",
       "split2_test_score                                   -1.6512e+15   \n",
       "split3_test_score                                  -1.61156e+15   \n",
       "split4_test_score                                  -3.54248e+15   \n",
       "mean_test_score                                    -2.27015e+15   \n",
       "std_test_score                                      1.11013e+15   \n",
       "rank_test_score                                               2   \n",
       "\n",
       "                                                               1  \\\n",
       "mean_fit_time                                             4.2975   \n",
       "std_fit_time                                            0.184825   \n",
       "mean_score_time                                         0.603386   \n",
       "std_score_time                                         0.0439009   \n",
       "param_fit_intercept                                         True   \n",
       "param_normalize                                            False   \n",
       "params               {'fit_intercept': True, 'normalize': False}   \n",
       "split0_test_score                                   -9.07769e+14   \n",
       "split1_test_score                                   -3.63772e+15   \n",
       "split2_test_score                                    -1.6512e+15   \n",
       "split3_test_score                                   -1.61156e+15   \n",
       "split4_test_score                                   -3.54248e+15   \n",
       "mean_test_score                                     -2.27015e+15   \n",
       "std_test_score                                       1.11013e+15   \n",
       "rank_test_score                                                1   \n",
       "\n",
       "                                                               2  \\\n",
       "mean_fit_time                                            4.03865   \n",
       "std_fit_time                                             0.12994   \n",
       "mean_score_time                                         0.630314   \n",
       "std_score_time                                         0.0563436   \n",
       "param_fit_intercept                                        False   \n",
       "param_normalize                                             True   \n",
       "params               {'fit_intercept': False, 'normalize': True}   \n",
       "split0_test_score                                   -9.07824e+14   \n",
       "split1_test_score                                   -3.63784e+15   \n",
       "split2_test_score                                   -1.65132e+15   \n",
       "split3_test_score                                   -1.61166e+15   \n",
       "split4_test_score                                   -3.54295e+15   \n",
       "mean_test_score                                     -2.27032e+15   \n",
       "std_test_score                                       1.11023e+15   \n",
       "rank_test_score                                                3   \n",
       "\n",
       "                                                                3  \n",
       "mean_fit_time                                             4.06025  \n",
       "std_fit_time                                             0.258932  \n",
       "mean_score_time                                          0.616986  \n",
       "std_score_time                                           0.046061  \n",
       "param_fit_intercept                                         False  \n",
       "param_normalize                                             False  \n",
       "params               {'fit_intercept': False, 'normalize': False}  \n",
       "split0_test_score                                    -9.07824e+14  \n",
       "split1_test_score                                    -3.63784e+15  \n",
       "split2_test_score                                    -1.65132e+15  \n",
       "split3_test_score                                    -1.61166e+15  \n",
       "split4_test_score                                    -3.54295e+15  \n",
       "mean_test_score                                      -2.27032e+15  \n",
       "std_test_score                                        1.11023e+15  \n",
       "rank_test_score                                                 3  "
      ]
     },
     "execution_count": 50,
     "metadata": {},
     "output_type": "execute_result"
    }
   ],
   "source": [
    "# Show all results\n",
    "results_df = pd.DataFrame.from_dict(gridSearchResult.cv_results_)\n",
    "results_df.T"
   ]
  },
  {
   "cell_type": "code",
   "execution_count": 51,
   "metadata": {},
   "outputs": [
    {
     "data": {
      "text/html": [
       "<div>\n",
       "<style scoped>\n",
       "    .dataframe tbody tr th:only-of-type {\n",
       "        vertical-align: middle;\n",
       "    }\n",
       "\n",
       "    .dataframe tbody tr th {\n",
       "        vertical-align: top;\n",
       "    }\n",
       "\n",
       "    .dataframe thead th {\n",
       "        text-align: right;\n",
       "    }\n",
       "</style>\n",
       "<table border=\"1\" class=\"dataframe\">\n",
       "  <thead>\n",
       "    <tr style=\"text-align: right;\">\n",
       "      <th></th>\n",
       "      <th>1</th>\n",
       "    </tr>\n",
       "  </thead>\n",
       "  <tbody>\n",
       "    <tr>\n",
       "      <th>fit_intercept</th>\n",
       "      <td>True</td>\n",
       "    </tr>\n",
       "    <tr>\n",
       "      <th>normalize</th>\n",
       "      <td>False</td>\n",
       "    </tr>\n",
       "    <tr>\n",
       "      <th>mean_fit_time</th>\n",
       "      <td>4.2975</td>\n",
       "    </tr>\n",
       "    <tr>\n",
       "      <th>std_fit_time</th>\n",
       "      <td>0.184825</td>\n",
       "    </tr>\n",
       "    <tr>\n",
       "      <th>mean_test_score</th>\n",
       "      <td>-2.27015e+15</td>\n",
       "    </tr>\n",
       "    <tr>\n",
       "      <th>std_test_score</th>\n",
       "      <td>1.11013e+15</td>\n",
       "    </tr>\n",
       "  </tbody>\n",
       "</table>\n",
       "</div>"
      ],
      "text/plain": [
       "                           1\n",
       "fit_intercept           True\n",
       "normalize              False\n",
       "mean_fit_time         4.2975\n",
       "std_fit_time        0.184825\n",
       "mean_test_score -2.27015e+15\n",
       "std_test_score   1.11013e+15"
      ]
     },
     "execution_count": 51,
     "metadata": {},
     "output_type": "execute_result"
    }
   ],
   "source": [
    "# Results with rank 1\n",
    "rank_one = results_df[results_df['rank_test_score'] == 1][['params', 'mean_fit_time', 'std_fit_time', 'mean_test_score', 'std_test_score']]\n",
    "rank_one = pd.concat([rank_one['params'].apply(pd.Series), rank_one], axis = 1, sort=True).drop(columns = 'params')\n",
    "rank_one.T"
   ]
  },
  {
   "cell_type": "code",
   "execution_count": 52,
   "metadata": {},
   "outputs": [
    {
     "data": {
      "text/plain": [
       "LinearRegression(copy_X=True, fit_intercept=True, n_jobs=None, normalize=False)"
      ]
     },
     "execution_count": 52,
     "metadata": {},
     "output_type": "execute_result"
    }
   ],
   "source": [
    "gridSearchResult.best_estimator_"
   ]
  },
  {
   "cell_type": "code",
   "execution_count": 53,
   "metadata": {},
   "outputs": [],
   "source": [
    "start = time.time()\n",
    "\n",
    "LR = gridSearchResult.best_estimator_.fit(train_X, train_y)\n",
    "\n",
    "end = time.time()\n",
    "hours, rem = divmod(end-start, 3600)\n",
    "minutes, seconds = divmod(rem, 60)\n",
    "time_taken = \"{:0>2}:{:0>2}:{:05.3f}\".format(int(hours),int(minutes),seconds)"
   ]
  },
  {
   "cell_type": "code",
   "execution_count": 62,
   "metadata": {},
   "outputs": [],
   "source": [
    "predictions = pd.Series(LR.predict(test_X))"
   ]
  },
  {
   "cell_type": "code",
   "execution_count": 63,
   "metadata": {},
   "outputs": [
    {
     "name": "stdout",
     "output_type": "stream",
     "text": [
      "Mean Squared Error: 58699950.25111303\n"
     ]
    }
   ],
   "source": [
    "print(\"Mean Squared Error:\", mean_squared_error(test_y, predictions)**0.5)"
   ]
  },
  {
   "cell_type": "code",
   "execution_count": 56,
   "metadata": {},
   "outputs": [
    {
     "data": {
      "image/png": "[encoded data removed]",
      "text/plain": [
       "<Figure size 2160x576 with 1 Axes>"
      ]
     },
     "metadata": {
      "needs_background": "light"
     },
     "output_type": "display_data"
    }
   ],
   "source": [
    "fig = plt.figure(figsize=(30,8))\n",
    "ax = plt.axes()\n",
    "\n",
    "ax.plot(predictions.index, predictions, color = 'blue', label='Prediction')\n",
    "ax.scatter(test_y.index, test_y, color = 'red', label='Real Value')\n",
    "\n",
    "ax.legend(loc='best')\n",
    "plt.show()"
   ]
  },
  {
   "cell_type": "code",
   "execution_count": 126,
   "metadata": {},
   "outputs": [],
   "source": [
    "pre_list = list(LR.predict(test_X))"
   ]
  },
  {
   "cell_type": "code",
   "execution_count": 113,
   "metadata": {},
   "outputs": [],
   "source": [
    "import math"
   ]
  },
  {
   "cell_type": "code",
   "execution_count": 127,
   "metadata": {},
   "outputs": [],
   "source": [
    "for i in range(len(pre_list)):\n",
    "    if pre_list[i] > 0:\n",
    "        pre_list[i] = math.log(pre_list[i], 10)\n",
    "    else:\n",
    "        pre_list[i] = 0"
   ]
  },
  {
   "cell_type": "code",
   "execution_count": 128,
   "metadata": {},
   "outputs": [
    {
     "name": "stdout",
     "output_type": "stream",
     "text": [
      "30169940000.0\n",
      "10.479574446479434\n"
     ]
    }
   ],
   "source": [
    "test_list = list(test_y)\n",
    "print(max(test_list))\n",
    "for i in range(len(test_list)):\n",
    "    if test_list[i] > 0:\n",
    "        test_list[i] = math.log(test_list[i], 10)\n",
    "    else:\n",
    "        test_list[i] = 0\n",
    "print(max(test_list))"
   ]
  },
  {
   "cell_type": "code",
   "execution_count": 129,
   "metadata": {},
   "outputs": [
    {
     "name": "stdout",
     "output_type": "stream",
     "text": [
      "Mean Squared Error: 3.38053302455548\n"
     ]
    }
   ],
   "source": [
    "print(\"Mean Squared Error:\", mean_squared_error(test_list, pre_list)**0.5)"
   ]
  },
  {
   "cell_type": "code",
   "execution_count": 130,
   "metadata": {},
   "outputs": [
    {
     "data": {
      "image/png": "[encoded data removed]",
      "text/plain": [
       "<Figure size 2160x576 with 1 Axes>"
      ]
     },
     "metadata": {
      "needs_background": "light"
     },
     "output_type": "display_data"
    }
   ],
   "source": [
    "fig = plt.figure(figsize=(30,8))\n",
    "ax = plt.axes()\n",
    "\n",
    "ax.plot(range(len(pre_list)), pre_list, color = 'blue', label='Prediction')\n",
    "ax.scatter(range(len(test_list)), test_list, color = 'red', label='Real Value')\n",
    "ax.legend(loc='best')\n",
    "plt.show()"
   ]
  },
  {
   "cell_type": "code",
   "execution_count": 59,
   "metadata": {},
   "outputs": [],
   "source": [
    "LR2 = LinearRegression(copy_X=True, fit_intercept=False, n_jobs=None, normalize=True).fit(train_X, train_y)"
   ]
  },
  {
   "cell_type": "code",
   "execution_count": 60,
   "metadata": {},
   "outputs": [],
   "source": [
    "predictions2 = pd.Series(LR2.predict(test_X))"
   ]
  },
  {
   "cell_type": "code",
   "execution_count": 61,
   "metadata": {},
   "outputs": [
    {
     "data": {
      "image/png": "[encoded data removed]",
      "text/plain": [
       "<Figure size 2160x576 with 1 Axes>"
      ]
     },
     "metadata": {
      "needs_background": "light"
     },
     "output_type": "display_data"
    }
   ],
   "source": [
    "fig = plt.figure(figsize=(30,8))\n",
    "ax = plt.axes()\n",
    "\n",
    "ax.plot(predictions2.index, predictions2, color = 'blue', label='Prediction')\n",
    "ax.scatter(test_y.index, test_y, color = 'red', label='Real Value')\n",
    "\n",
    "ax.legend(loc='best')\n",
    "plt.show()"
   ]
  },
  {
   "cell_type": "code",
   "execution_count": null,
   "metadata": {},
   "outputs": [],
   "source": []
  }
 ],
 "metadata": {
  "kernelspec": {
   "display_name": "Python 3",
   "language": "python",
   "name": "python3"
  },
  "language_info": {
   "codemirror_mode": {
    "name": "ipython",
    "version": 3
   },
   "file_extension": ".py",
   "mimetype": "text/x-python",
   "name": "python",
   "nbconvert_exporter": "python",
   "pygments_lexer": "ipython3",
   "version": "3.7.3"
  }
 },
 "nbformat": 4,
 "nbformat_minor": 2
}
